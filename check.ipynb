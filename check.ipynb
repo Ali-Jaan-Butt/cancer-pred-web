{
 "cells": [
  {
   "cell_type": "code",
   "execution_count": 1,
   "id": "966a388b-85a0-4535-9f61-1a7f260f1f04",
   "metadata": {},
   "outputs": [],
   "source": [
    "import pandas as pd"
   ]
  },
  {
   "cell_type": "code",
   "execution_count": 4,
   "id": "d125cc44-f2cc-43c3-9330-b380099bd90b",
   "metadata": {},
   "outputs": [],
   "source": [
    "df = pd.read_csv('comp/cancer.csv')"
   ]
  },
  {
   "cell_type": "code",
   "execution_count": 6,
   "id": "90d5c655-59a3-4346-8b91-13ed2fc7e318",
   "metadata": {},
   "outputs": [
    {
     "data": {
      "text/plain": [
       "['index',\n",
       " 'Patient Id',\n",
       " 'Age',\n",
       " 'Gender',\n",
       " 'Air Pollution',\n",
       " 'Alcohol use',\n",
       " 'Dust Allergy',\n",
       " 'OccuPational Hazards',\n",
       " 'Genetic Risk',\n",
       " 'chronic Lung Disease',\n",
       " 'Balanced Diet',\n",
       " 'Obesity',\n",
       " 'Smoking',\n",
       " 'Passive Smoker',\n",
       " 'Chest Pain',\n",
       " 'Coughing of Blood',\n",
       " 'Fatigue',\n",
       " 'Weight Loss',\n",
       " 'Shortness of Breath',\n",
       " 'Wheezing',\n",
       " 'Swallowing Difficulty',\n",
       " 'Clubbing of Finger Nails',\n",
       " 'Frequent Cold',\n",
       " 'Dry Cough',\n",
       " 'Snoring',\n",
       " 'Level']"
      ]
     },
     "execution_count": 6,
     "metadata": {},
     "output_type": "execute_result"
    }
   ],
   "source": [
    "list(df.columns)"
   ]
  },
  {
   "cell_type": "code",
   "execution_count": 14,
   "id": "c0558837-483d-4474-8a48-516e93165666",
   "metadata": {},
   "outputs": [],
   "source": [
    "features = df.drop('Level',axis=1)\n",
    "features = features.drop('Patient Id',axis=1)\n",
    "features = features.drop('index',axis=1)\n",
    "features = features.drop('Gender',axis=1)"
   ]
  },
  {
   "cell_type": "code",
   "execution_count": 17,
   "id": "d15e3c06-a76b-4527-8cc8-838f80919293",
   "metadata": {},
   "outputs": [
    {
     "data": {
      "text/plain": [
       "Index(['Age', 'Air Pollution', 'Alcohol use', 'Dust Allergy',\n",
       "       'OccuPational Hazards', 'Genetic Risk', 'chronic Lung Disease',\n",
       "       'Balanced Diet', 'Obesity', 'Smoking', 'Passive Smoker', 'Chest Pain',\n",
       "       'Coughing of Blood', 'Fatigue', 'Weight Loss', 'Shortness of Breath',\n",
       "       'Wheezing', 'Swallowing Difficulty', 'Clubbing of Finger Nails',\n",
       "       'Frequent Cold', 'Dry Cough', 'Snoring'],\n",
       "      dtype='object')"
      ]
     },
     "execution_count": 17,
     "metadata": {},
     "output_type": "execute_result"
    }
   ],
   "source": [
    "features.columns"
   ]
  },
  {
   "cell_type": "code",
   "execution_count": 18,
   "id": "b0d2264c-23da-4a8e-831a-3f1dec66decc",
   "metadata": {},
   "outputs": [],
   "source": [
    "data = {}"
   ]
  },
  {
   "cell_type": "code",
   "execution_count": 20,
   "id": "01732788-15b8-4722-aba3-f32144eb27e5",
   "metadata": {},
   "outputs": [
    {
     "ename": "AttributeError",
     "evalue": "'dict' object attribute 'keys' is read-only",
     "output_type": "error",
     "traceback": [
      "\u001b[0;31m---------------------------------------------------------------------------\u001b[0m",
      "\u001b[0;31mAttributeError\u001b[0m                            Traceback (most recent call last)",
      "Cell \u001b[0;32mIn[20], line 1\u001b[0m\n\u001b[0;32m----> 1\u001b[0m data\u001b[38;5;241m.\u001b[39mkeys \u001b[38;5;241m=\u001b[39m features\u001b[38;5;241m.\u001b[39mcolumns\n",
      "\u001b[0;31mAttributeError\u001b[0m: 'dict' object attribute 'keys' is read-only"
     ]
    }
   ],
   "source": [
    "data.keys = features.columns"
   ]
  },
  {
   "cell_type": "code",
   "execution_count": 22,
   "id": "fa1cd1cf-63ac-49c6-ba91-97d0a7fa60b8",
   "metadata": {},
   "outputs": [],
   "source": [
    "data = {'age':[1], 'air_pollution':[1], 'alcohol_use':[1], 'dust_allergy':[1], 'occ_haz':[1], 'genetic_risk':[1], 'ch_ld':[1], 'fatigue':[1], 'weight_loss':[1], 'sh_breath':[1], 'wheezing':[1], 'swall_dif':[1], 'cl_fn':[1], 'freq_cold':[1], 'dry_cough':[1], 'snoring':[1], 'balanced_diet':[1], 'obesty':[1], 'smoking':[1], 'passive_smoker':[1], 'chest_pain':[1], 'coughing_of_blood':[1]}"
   ]
  },
  {
   "cell_type": "code",
   "execution_count": 23,
   "id": "b41392de-2d64-4900-b674-1e11850ca20e",
   "metadata": {},
   "outputs": [],
   "source": [
    "import pickle"
   ]
  },
  {
   "cell_type": "code",
   "execution_count": 24,
   "id": "84b4906d-03ad-4b97-94b5-b2756ae7959b",
   "metadata": {},
   "outputs": [],
   "source": [
    "with open('comp/model.pkl', 'rb') as file:\n",
    "    lr = pickle.load(file)"
   ]
  },
  {
   "cell_type": "code",
   "execution_count": 25,
   "id": "6f957816-f3a5-477b-9d68-c15c8b0e7111",
   "metadata": {},
   "outputs": [],
   "source": [
    "df = pd.DataFrame(data)"
   ]
  },
  {
   "cell_type": "code",
   "execution_count": 27,
   "id": "2b79edeb-dec2-4128-a957-688e7321f2af",
   "metadata": {},
   "outputs": [],
   "source": [
    "df1 = pd.read_csv('comp/cancer.csv')\n",
    "features = df1.drop('Level',axis=1)\n",
    "features = features.drop('Patient Id',axis=1)\n",
    "features = features.drop('index',axis=1)\n",
    "features = features.drop('Gender',axis=1)"
   ]
  },
  {
   "cell_type": "code",
   "execution_count": 28,
   "id": "e5ea749f-5c21-4b7b-b3f6-af820c6b61ac",
   "metadata": {},
   "outputs": [],
   "source": [
    "df.columns = list(features.columns)"
   ]
  },
  {
   "cell_type": "code",
   "execution_count": 29,
   "id": "d2cc1cd8-f2ad-495c-950b-3b644814c279",
   "metadata": {},
   "outputs": [
    {
     "data": {
      "text/plain": [
       "array(['Low'], dtype=object)"
      ]
     },
     "execution_count": 29,
     "metadata": {},
     "output_type": "execute_result"
    }
   ],
   "source": [
    "lr.predict(df)"
   ]
  },
  {
   "cell_type": "code",
   "execution_count": null,
   "id": "bfab6298-80d5-4052-9c09-4353764d3871",
   "metadata": {},
   "outputs": [],
   "source": []
  }
 ],
 "metadata": {
  "kernelspec": {
   "display_name": "Python 3 (ipykernel)",
   "language": "python",
   "name": "python3"
  },
  "language_info": {
   "codemirror_mode": {
    "name": "ipython",
    "version": 3
   },
   "file_extension": ".py",
   "mimetype": "text/x-python",
   "name": "python",
   "nbconvert_exporter": "python",
   "pygments_lexer": "ipython3",
   "version": "3.11.3"
  }
 },
 "nbformat": 4,
 "nbformat_minor": 5
}
